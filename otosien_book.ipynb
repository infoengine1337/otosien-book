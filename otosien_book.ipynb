{
  "cells": [
    {
      "cell_type": "markdown",
      "metadata": {
        "id": "mXs_WKTDJeVg"
      },
      "source": [
        "# 音MAD作者支援用簡易ノートブック\n",
        "\n",
        "音MAD製作において便利な機能をつめこんだノートブックです。 \n",
        "\n",
        "Google Drive上のsiendirディレクトリにダウンロードした動画や音声などを格納します。 \n",
        "\n",
        "多少設計にグダグダなところがありますが、動けばok！！の精神で見逃してください…"
      ]
    },
    {
      "cell_type": "markdown",
      "metadata": {
        "id": "d3mdM34oJ0k6"
      },
      "source": [
        "## Google Driveマウント\n",
        "Google Driveをマウントします。 \n",
        "\n",
        "必ず最初に実行してください。"
      ]
    },
    {
      "cell_type": "code",
      "execution_count": null,
      "metadata": {
        "cellView": "form",
        "colab": {
          "base_uri": "https://localhost:8080/"
        },
        "id": "ytUBWfA4J96R",
        "outputId": "d3868dca-161c-4234-c7f3-427ad4f7bb99"
      },
      "outputs": [
        {
          "name": "stdout",
          "output_type": "stream",
          "text": [
            "Mounted at /content/drive\n"
          ]
        }
      ],
      "source": [
        "#@title Google Driveをマウント\n",
        "from google.colab import drive\n",
        "import os\n",
        "drive.mount('/content/drive')\n",
        "\n",
        "if not os.path.exists(\"/content/drive/MyDrive/siendir\"):\n",
        "  !mkdir /content/drive/MyDrive/siendir\n"
      ]
    },
    {
      "cell_type": "markdown",
      "metadata": {
        "id": "WFxWQ-l3J_hq"
      },
      "source": [
        "## Youtube動画ダウンロード\n",
        "Youtubeの動画をダウンロードし、Google Driveに保存します\n",
        "\n",
        "デフォルトで最高画質&フレームレートでダウンロードする仕様です。 \n",
        "\n",
        "サイトが対応しているようであれば他サイトもダウンロード可能です。"
      ]
    },
    {
      "cell_type": "code",
      "execution_count": null,
      "metadata": {
        "cellView": "form",
        "id": "uz0keOq4KWKG"
      },
      "outputs": [],
      "source": [
        "#@title 初期化処理(初めに実行してください)\n",
        "!apt install ffmpeg\n",
        "!pip install yt-dlp"
      ]
    },
    {
      "cell_type": "code",
      "execution_count": null,
      "metadata": {
        "cellView": "form",
        "id": "zPzMjfi9Kb7u"
      },
      "outputs": [],
      "source": [
        "#@title 動画をダウンロード(Youtube等)\n",
        "\n",
        "movie_url = \"https://www.youtube.com/watch?v=KyjhLRymzsk\"#@param {type:\"string\"}\n",
        "\n",
        "!yt-dlp -f \"bestvideo[ext=mp4]+bestaudio[ext=m4a]\" --merge-output-format mp4 -o \"/content/drive/MyDrive/siendir/%(title)s-%(height)s.%(ext)s\" --no-mtime \"$movie_url\""
      ]
    },
    {
      "cell_type": "code",
      "execution_count": null,
      "metadata": {
        "cellView": "form",
        "id": "AYjlLxyGjpaa"
      },
      "outputs": [],
      "source": [
        "#@title 動画をダウンロード(ニコニコ)\n",
        "\n",
        "movie_url = \"https://www.nicovideo.jp/watch/sm39300654\"#@param {type:\"string\"}\n",
        "\n",
        "!yt-dlp -f \"b\" --merge-output-format mp4 -o \"/content/drive/MyDrive/siendir/%(title)s-%(height)s.%(ext)s\" --no-mtime \"$movie_url\""
      ]
    },
    {
      "cell_type": "markdown",
      "metadata": {
        "id": "c1BmzHfQOGcW"
      },
      "source": [
        "## 動画形式変換\n",
        "動画のファイル形式を変換したり、音声にしたりできるものです\n",
        "\n",
        "Twitterにアップロードなどする際にコーデックの問題でアップロードできなかったり、簡単に音声ファイルに変換できたりするとうれしいと思い作成"
      ]
    },
    {
      "cell_type": "code",
      "execution_count": null,
      "metadata": {
        "cellView": "form",
        "id": "m1vx_z3YOaen"
      },
      "outputs": [],
      "source": [
        "#@title 初期化処理(初めに実行してください)\n",
        "!apt install ffmpeg"
      ]
    },
    {
      "cell_type": "code",
      "execution_count": null,
      "metadata": {
        "cellView": "form",
        "id": "0pG-61lOOcVg"
      },
      "outputs": [],
      "source": [
        "#@title 互換性のある動画形式(H264+AAC)に変換\n",
        "\n",
        "import glob\n",
        "\n",
        "files = glob.glob('/content/drive/My Drive/siendir/*.mp4', recursive=True)\n",
        "\n",
        "for index, tmpname in enumerate(files):\n",
        "  print(\"{}. {}\".format(index, tmpname))\n",
        "\n",
        "num = int(input(\"変換したい動画を選択してください: \"))\n",
        "filename = files[num]\n",
        "filename_after = \"{}_convert.mp4\".format(files[num].split(\".\")[0])\n",
        "\n",
        "\n",
        "!ffmpeg -i \"$filename\" -vcodec h264_nvenc  -acodec aac \"$filename_after\"\n"
      ]
    },
    {
      "cell_type": "code",
      "execution_count": null,
      "metadata": {
        "cellView": "form",
        "id": "HmtZGLtIOl4Q"
      },
      "outputs": [],
      "source": [
        "#@title mp3形式に変換\n",
        "import glob\n",
        "\n",
        "files = glob.glob('/content/drive/My Drive/siendir/*.mp4', recursive=True) + glob.glob('/content/drive/My Drive/siendir/*.wav', recursive=True)\n",
        "\n",
        "for index, tmpname in enumerate(files):\n",
        "  print(\"{}. {}\".format(index, tmpname))\n",
        "\n",
        "num = int(input(\"変換したい動画を選択してください: \"))\n",
        "filename = files[num]\n",
        "filename_after = \"{}_convert.mp3\".format(files[num].split(\".\")[0])\n",
        "\n",
        "\n",
        "!ffmpeg -i \"$filename\" -acodec libmp3lame \"$filename_after\""
      ]
    },
    {
      "cell_type": "code",
      "execution_count": null,
      "metadata": {
        "cellView": "form",
        "id": "UNUHsPt5VuIZ"
      },
      "outputs": [],
      "source": [
        "#@title wav形式に変換\n",
        "import glob\n",
        "\n",
        "files = glob.glob('/content/drive/My Drive/siendir/*.mp4', recursive=True) + glob.glob('/content/drive/My Drive/siendir/*.mp3', recursive=True)\n",
        "\n",
        "for index, tmpname in enumerate(files):\n",
        "  print(\"{}. {}\".format(index, tmpname))\n",
        "\n",
        "num = int(input(\"変換したい動画を選択してください: \"))\n",
        "filename = files[num]\n",
        "filename_after = \"{}_convert.wav\".format(files[num].split(\".\")[0])\n",
        "\n",
        "\n",
        "!ffmpeg -i \"$filename\" -acodec pcm_s24le \"$filename_after\""
      ]
    },
    {
      "cell_type": "markdown",
      "metadata": {},
      "source": [
        "## 音源分離(Demucs v3)\n",
        "音源分離をし、局から歌声を抽出したりBGMを除去したりするものです  \n",
        "\n",
        "こちらはDemucs v3を用いるため、かなりの精度が期待できます  \n",
        "\n",
        "4音に分割する仕様です  \n",
        "\n",
        "分離したい音源は事前に上で音声ファイルに変換しておいてください  "
      ]
    },
    {
      "cell_type": "code",
      "execution_count": null,
      "metadata": {},
      "outputs": [],
      "source": [
        "#@title 初期化処理(初めに実行してください)\n",
        "#@markdown また、これを実行したあとは「RESTART RUNTIME」ボタンを押す必要があるっぽいです\n",
        "!apt install ffmpeg\n",
        "!pip install demucs"
      ]
    },
    {
      "cell_type": "code",
      "execution_count": null,
      "metadata": {},
      "outputs": [],
      "source": [
        "#@title 音源分離\n",
        "\n",
        "import glob\n",
        "import os\n",
        "\n",
        "files = glob.glob('/content/drive/My Drive/siendir/*.wav', recursive=True) + glob.glob('/content/drive/My Drive/siendir/*.mp3', recursive=True)\n",
        "\n",
        "for index, tmpname in enumerate(files):\n",
        "  print(\"{}. {}\".format(index, tmpname))\n",
        "\n",
        "num = int(input(\"音源分離したい音声を選択してください: \"))\n",
        "filename = files[num]\n",
        "dirname_after = \"{}\".format(files[num].split(\".\")[0])\n",
        "\n",
        "if not os.path.exists(dirname_after):\n",
        "  !mkdir \"$dirname_after\"\n",
        "\n",
        "!demucs -o \"$dirname_after\" -n \"mdx_extra\" \"$filename\""
      ]
    },
    {
      "cell_type": "markdown",
      "metadata": {
        "id": "1UJ-dKJqXv6w"
      },
      "source": [
        "## 音源分離(spleeter)\n",
        "音源分離をし、曲から歌声を抽出したりBGMを除去したりするものです \n",
        "\n",
        "こちらはspleeterを用いるため、少し精度は劣ります  \n",
        "\n",
        "5音に分割する仕様です\n",
        "\n",
        "分離したい音源は事前に上で音声ファイルに変換しておいてください\n"
      ]
    },
    {
      "cell_type": "code",
      "execution_count": null,
      "metadata": {
        "cellView": "form",
        "id": "UZWdikgfX7sz"
      },
      "outputs": [],
      "source": [
        "#@title 初期化処理(初めに実行してください)\n",
        "#@markdown また、これを実行したあとは「RESTART RUNTIME」ボタンを押す必要があるっぽいです\n",
        "!pip install spleeter-gpu"
      ]
    },
    {
      "cell_type": "code",
      "execution_count": null,
      "metadata": {
        "cellView": "form",
        "id": "XShFjnZBYLdJ"
      },
      "outputs": [],
      "source": [
        "#@title 音源分離\n",
        "\n",
        "import glob\n",
        "import os\n",
        "\n",
        "files = glob.glob('/content/drive/My Drive/siendir/*.wav', recursive=True) + glob.glob('/content/drive/My Drive/siendir/*.mp3', recursive=True)\n",
        "\n",
        "for index, tmpname in enumerate(files):\n",
        "  print(\"{}. {}\".format(index, tmpname))\n",
        "\n",
        "num = int(input(\"音源分離したい音声を選択してください: \"))\n",
        "filename = files[num]\n",
        "dirname_after = \"{}\".format(files[num].split(\".\")[0])\n",
        "\n",
        "if not os.path.exists(dirname_after):\n",
        "  !mkdir \"$dirname_after\"\n",
        "\n",
        "!spleeter separate -o \"$dirname_after\" -p spleeter:5stems -i \"$filename\""
      ]
    },
    {
      "cell_type": "markdown",
      "metadata": {},
      "source": [
        "## 動画高画質化  \n",
        "\n",
        "動画を高画質にするものです  \n",
        "\n",
        "デフォルトでは二倍の解像度になります  \n",
        "\n",
        "Real-ESRGANという技術を用いています  \n"
      ]
    },
    {
      "cell_type": "code",
      "execution_count": null,
      "metadata": {},
      "outputs": [],
      "source": [
        "#@title 初期化処理(初めに実行してください)\n",
        "!apt install ffmpeg\n",
        "!git clone https://github.com/xinntao/Real-ESRGAN\n",
        "%cd Real-ESRGAN\n",
        "\n",
        "!pip install basicsr\n",
        "!pip install facexlib\n",
        "!pip install gfpgan\n",
        "!pip install -r requirements.txt\n",
        "!python setup.py develop\n",
        "# Download the pre-trained model\n",
        "!wget https://github.com/xinntao/Real-ESRGAN/releases/download/v0.1.0/RealESRGAN_x4plus.pth -P experiments/pretrained_models\n",
        "\n",
        "%cd ../"
      ]
    },
    {
      "cell_type": "code",
      "execution_count": null,
      "metadata": {},
      "outputs": [],
      "source": [
        "#@title 高画質素材を作成\n",
        "\n",
        "import glob\n",
        "import os\n",
        "\n",
        "files = glob.glob('/content/drive/My Drive/siendir/*.mp4', recursive=True)\n",
        "\n",
        "for index, tmpname in enumerate(files):\n",
        "  print(\"{}. {}\".format(index, tmpname))\n",
        "\n",
        "num = int(input(\"変換したい動画を選択してください: \"))\n",
        "filename = files[num]\n",
        "\n",
        "dirname_before_tmp = \"{}_beforeesr\".format(files[num].split(\".\")[0])\n",
        "audioname_before_tmp = \"{}_beforeesr/audio.wav\".format(files[num].split(\".\")[0])\n",
        "imgname_before_tmp = \"{}_beforeesr/%04d.png\".format(files[num].split(\".\")[0])\n",
        "dirname_after_tmp = \"{}_afteresr\".format(files[num].split(\".\")[0])\n",
        "imgname_after_tmp = \"{}_afteresr/%04d_out.png\".format(files[num].split(\".\")[0])\n",
        "\n",
        "filename_after = \"{}_esr.mp4\".format(files[num].split(\".\")[0])\n",
        "\n",
        "if not os.path.exists(dirname_before_tmp):\n",
        "  !mkdir \"$dirname_before_tmp\"\n",
        "\n",
        "!ffmpeg -i \"$filename\" \"$audioname_before_tmp\"\n",
        "!ffmpeg -i \"$filename\" -vcodec png \"$imgname_before_tmp\"\n",
        "\n",
        "%cd Real-ESRGAN\n",
        "!python ./inference_realesrgan.py -n  RealESRGAN_x4plus -i \"$dirname_before_tmp\" -o \"$dirname_after_tmp\" --outscale 2\n",
        "%cd ../\n",
        "\n",
        "!ffmpeg -i \"$imgname_after_tmp\" -i \"$audioname_before_tmp\" \"$filename_after\"\n"
      ]
    },
    {
      "cell_type": "markdown",
      "metadata": {
        "id": "o_bzlufrcqNn"
      },
      "source": [
        "## 透過素材作成\n",
        "\n",
        "背景が透過された素材を作成するものです \n",
        "\n",
        "anime-segmentationという技術を用いています  \n",
        "\n",
        "また最終的に作成する映像はUtVideo RGBA形式で出力されます \n",
        "\n",
        "インストールされていればAviutlでも読み込めるようになっているはずです \n",
        "\n",
        "対応していない場合はGoogle Driveのディレクトリから連番pngをダウンロードすれば大丈夫だと思います\n"
      ]
    },
    {
      "cell_type": "code",
      "execution_count": null,
      "metadata": {
        "cellView": "form",
        "id": "U6v4u85Hcpt3"
      },
      "outputs": [],
      "source": [
        "#@title 初期化処理(初めに実行してください)\n",
        "!apt install ffmpeg\n",
        "!git clone https://github.com/SkyTNT/anime-segmentation\n",
        "!pip install -r anime-segmentation/requirements.txt\n",
        "!wget -P anime-segmentation https://huggingface.co/skytnt/anime-seg/resolve/main/isnetis.ckpt"
      ]
    },
    {
      "cell_type": "code",
      "execution_count": null,
      "metadata": {
        "cellView": "form",
        "id": "fjS3PDGydNmu"
      },
      "outputs": [],
      "source": [
        "#@title 透過素材を作成\n",
        "\n",
        "import glob\n",
        "import os\n",
        "\n",
        "files = glob.glob('/content/drive/My Drive/siendir/*.mp4', recursive=True)\n",
        "\n",
        "for index, tmpname in enumerate(files):\n",
        "  print(\"{}. {}\".format(index, tmpname))\n",
        "\n",
        "num = int(input(\"変換したい動画を選択してください: \"))\n",
        "filename = files[num]\n",
        "\n",
        "dirname_before_tmp = \"{}_beforeseg\".format(files[num].split(\".\")[0])\n",
        "audioname_before_tmp = \"{}_beforeseg/audio.wav\".format(files[num].split(\".\")[0])\n",
        "imgname_before_tmp = \"{}_beforeseg/%04d.png\".format(files[num].split(\".\")[0])\n",
        "dirname_after_tmp = \"{}_afterseg\".format(files[num].split(\".\")[0])\n",
        "imgname_after_tmp = \"{}_afterseg/%06d.png\".format(files[num].split(\".\")[0])\n",
        "\n",
        "filename_after = \"{}_seg.avi\".format(files[num].split(\".\")[0])\n",
        "\n",
        "if not os.path.exists(dirname_before_tmp):\n",
        "  !mkdir \"$dirname_before_tmp\"\n",
        "\n",
        "!ffmpeg -i \"$filename\" \"$audioname_before_tmp\"\n",
        "!ffmpeg -i \"$filename\" -vcodec png \"$imgname_before_tmp\"\n",
        "\n",
        "!python ./anime-segmentation/inference.py --net isnet_is --ckpt ./anime-segmentation/isnetis.ckpt --data \"$dirname_before_tmp\" --out \"$dirname_after_tmp\" --img-size 1024 --only-matted\n",
        "\n",
        "!ffmpeg -i \"$imgname_after_tmp\" -i \"$audioname_before_tmp\" -vcodec utvideo \"$filename_after\"\n"
      ]
    }
  ],
  "metadata": {
    "accelerator": "GPU",
    "colab": {
      "collapsed_sections": [],
      "name": "otosien-book.ipynb",
      "provenance": []
    },
    "gpuClass": "standard",
    "kernelspec": {
      "display_name": "Python 3",
      "name": "python3"
    },
    "language_info": {
      "name": "python"
    }
  },
  "nbformat": 4,
  "nbformat_minor": 0
}
